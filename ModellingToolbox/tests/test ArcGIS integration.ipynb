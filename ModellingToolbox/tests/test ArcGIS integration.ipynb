{
 "cells": [
  {
   "cell_type": "markdown",
   "metadata": {},
   "source": [
    "ModellingToolbox test notebook\n",
    "---------------------------------\n",
    "\n",
    "This is a short Jupyter notebook to test the ArcGIS integration of the ModellingToolbox modules.\n",
    "\n",
    "1) import the necessary modules:"
   ]
  },
  {
   "cell_type": "code",
   "execution_count": 1,
   "metadata": {},
   "outputs": [],
   "source": [
    "from ModellingToolbox.Resources.DBHandler import DBHandler\n",
    "from ModellingToolbox.Resources.Geometries import GeoPoint, Line\n",
    "from ModellingToolbox.Resources.Property import Property\n",
    "from ModellingToolbox.Resources.Stratigraphy import StratigraphicObject\n",
    "from ModellingToolbox.Resources.WellLogs import WellLog, WellLogValue\n",
    "from ModellingToolbox.Resources.Wells import Well, WellMarker"
   ]
  },
  {
   "cell_type": "markdown",
   "metadata": {},
   "source": [
    "2) Connect to a database (first variant: in-memory)"
   ]
  },
  {
   "cell_type": "code",
   "execution_count": 2,
   "metadata": {},
   "outputs": [],
   "source": [
    "handler = DBHandler(connection='sqlite:///C:\\\\Users\\\\steph\\\\PycharmProjects\\\\Modelling-Toolbox\\\\tmp.sqlite', echo=False)\n",
    "session = handler.get_session()"
   ]
  },
  {
   "cell_type": "code",
   "execution_count": null,
   "metadata": {},
   "outputs": [],
   "source": [
    "point = GeoPoint(None, False, '', 0, 0, 0, session, '', '')"
   ]
  },
  {
   "cell_type": "code",
   "execution_count": null,
   "metadata": {},
   "outputs": [],
   "source": [
    "point.save_to_db()"
   ]
  },
  {
   "cell_type": "code",
   "execution_count": null,
   "metadata": {},
   "outputs": [],
   "source": [
    "GeoPoint.delete_from_db(point, session)"
   ]
  },
  {
   "cell_type": "code",
   "execution_count": null,
   "metadata": {},
   "outputs": [],
   "source": [
    "session.close_all()"
   ]
  },
  {
   "cell_type": "code",
   "execution_count": null,
   "metadata": {},
   "outputs": [],
   "source": [
    "del handler\n",
    "del session\n",
    "handler = DBHandler(connection='sqlite:///C:\\\\Users\\\\steph\\\\PycharmProjects\\\\Modelling-Toolbox\\\\tmp.sqlite', echo=False)\n",
    "session = handler.get_session()"
   ]
  },
  {
   "cell_type": "code",
   "execution_count": 3,
   "metadata": {},
   "outputs": [],
   "source": [
    "from ModellingToolbox.ArcGIS_Scripts.Import.PointData import PointImport"
   ]
  },
  {
   "cell_type": "code",
   "execution_count": 5,
   "metadata": {},
   "outputs": [],
   "source": [
    "points = PointImport(session)"
   ]
  },
  {
   "cell_type": "code",
   "execution_count": 6,
   "metadata": {},
   "outputs": [],
   "source": [
    "points.import_from_file(r'C:\\Users\\steph\\PycharmProjects\\Modelling-Toolbox\\ModellingToolbox\\tests\\test_data\\Random_Data.csv', 1, 2, 3, 5, 6, 7, 8, ';')"
   ]
  },
  {
   "cell_type": "code",
   "execution_count": null,
   "metadata": {},
   "outputs": [],
   "source": []
  }
 ],
 "metadata": {
  "kernelspec": {
   "display_name": "Python 2",
   "language": "python",
   "name": "python2"
  },
  "language_info": {
   "codemirror_mode": {
    "name": "ipython",
    "version": 2
   },
   "file_extension": ".py",
   "mimetype": "text/x-python",
   "name": "python",
   "nbconvert_exporter": "python",
   "pygments_lexer": "ipython2",
   "version": "2.7.5"
  }
 },
 "nbformat": 4,
 "nbformat_minor": 2
}
