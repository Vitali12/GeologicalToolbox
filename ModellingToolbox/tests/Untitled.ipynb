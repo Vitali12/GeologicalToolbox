{
 "cells": [
  {
   "cell_type": "markdown",
   "metadata": {},
   "source": [
    "ModellingToolbox test notebook\n",
    "---------------------------------\n",
    "\n",
    "This is a short Jupyter notebook to test the ArcGIS integration of the ModellingToolbox modules.\n",
    "\n",
    "1) import the necessary modules:"
   ]
  },
  {
   "cell_type": "code",
   "execution_count": 5,
   "metadata": {},
   "outputs": [],
   "source": [
    "from ModellingToolbox.Resources.DBHandler import DBHandler\n",
    "from ModellingToolbox.Resources.Geometries import GeoPoint, Line"
   ]
  },
  {
   "cell_type": "code",
   "execution_count": 8,
   "metadata": {},
   "outputs": [],
   "source": [
    "from ModellingToolbox.Resources.Wells import Well\n",
    "from ModellingToolbox.Resources.PropertyLogs import Property, WellLog, WellLogValue"
   ]
  },
  {
   "cell_type": "markdown",
   "metadata": {},
   "source": [
    "2) Connect to a database (first variant: in-memory)"
   ]
  },
  {
   "cell_type": "code",
   "execution_count": 9,
   "metadata": {},
   "outputs": [],
   "source": [
    "handler = DBHandler(connection='sqlite://', echo=False)\n",
    "# session = handler.get_session()"
   ]
  },
  {
   "cell_type": "code",
   "execution_count": null,
   "metadata": {},
   "outputs": [],
   "source": []
  },
  {
   "cell_type": "code",
   "execution_count": null,
   "metadata": {},
   "outputs": [],
   "source": []
  }
 ],
 "metadata": {
  "kernelspec": {
   "display_name": "Python 2",
   "language": "python",
   "name": "python2"
  },
  "language_info": {
   "codemirror_mode": {
    "name": "ipython",
    "version": 2
   },
   "file_extension": ".py",
   "mimetype": "text/x-python",
   "name": "python",
   "nbconvert_exporter": "python",
   "pygments_lexer": "ipython2",
   "version": "2.7.5"
  }
 },
 "nbformat": 4,
 "nbformat_minor": 2
}
